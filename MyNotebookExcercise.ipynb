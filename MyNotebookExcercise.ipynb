{
 "cells": [
  {
   "cell_type": "markdown",
   "metadata": {},
   "source": [
    "<center>\n",
    "    <img src=\"https://s3-api.us-geo.objectstorage.softlayer.net/cf-courses-data/CognitiveClass/Logos/organization_logo/organization_logo.png\" width=\"300\" alt=\"cognitiveclass.ai logo\"  />\n",
    "</center>\n"
   ]
  },
  {
   "cell_type": "markdown",
   "metadata": {},
   "source": [
    "#### Add your code below following the instructions given in the course\n"
   ]
  },
  {
   "cell_type": "markdown",
   "metadata": {
    "tags": []
   },
   "source": [
    "# My Jupyter Notebook #"
   ]
  },
  {
   "cell_type": "markdown",
   "metadata": {},
   "source": [
    "**PENCY JOHNN DIOSES MARIA JOHN**  \n",
    "Data Scientist"
   ]
  },
  {
   "cell_type": "markdown",
   "metadata": {
    "tags": []
   },
   "source": [
    "*I am interested in data science because this is a new evolving filed of study all about data*  \n",
    "*I want to learn data science and its methods to analyze the stock market data and define better strategies.*"
   ]
  },
  {
   "cell_type": "markdown",
   "metadata": {},
   "source": [
    "### Following few lines of code will define two variables and make a addition operation of those two variables and display the output ###"
   ]
  },
  {
   "cell_type": "code",
   "execution_count": 6,
   "metadata": {},
   "outputs": [
    {
     "name": "stdout",
     "output_type": "stream",
     "text": [
      "First variable: a=  5\n",
      "Second variable: b=  7\n",
      "sum: a+b= 12\n"
     ]
    }
   ],
   "source": [
    "a = 5\n",
    "b = 7\n",
    "print(\"First variable: a= \",a)\n",
    "print(\"Second variable: b= \",b)\n",
    "print(\"sum: a+b=\",a+b)"
   ]
  },
  {
   "cell_type": "markdown",
   "metadata": {},
   "source": [
    "1.Bulleted list\n",
    "- USA\n",
    "    - San Francisco\n",
    "    - Dallas\n",
    "- UK\n",
    "    - London\n",
    "    - Birmingham\n",
    "- India\n",
    "    - Delhi\n",
    "    - Bombay\n",
    "    - Kolkatta\n",
    "    - Chennai\n",
    "    \n",
    "2.Numbered list\n",
    "1. USA\n",
    "    1. San Francisco\n",
    "    2. Dallas\n",
    "2. UK\n",
    "    1. London\n",
    "    2. Birmingham\n",
    "3. India\n",
    "    1. Delhi\n",
    "    2. Bombay\n",
    "    3. Kolkatta\n",
    "    4. Chennai\n",
    "    \n",
    "3.Hyberlink:  \n",
    "Here is the link for Coursera Website: [Coursera](https://www.coursera.org)"
   ]
  },
  {
   "cell_type": "code",
   "execution_count": null,
   "metadata": {},
   "outputs": [],
   "source": []
  }
 ],
 "metadata": {
  "kernelspec": {
   "display_name": "Python",
   "language": "python",
   "name": "conda-env-python-py"
  },
  "language_info": {
   "codemirror_mode": {
    "name": "ipython",
    "version": 3
   },
   "file_extension": ".py",
   "mimetype": "text/x-python",
   "name": "python",
   "nbconvert_exporter": "python",
   "pygments_lexer": "ipython3",
   "version": "3.7.12"
  }
 },
 "nbformat": 4,
 "nbformat_minor": 4
}
